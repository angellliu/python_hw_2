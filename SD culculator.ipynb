{
 "cells": [
  {
   "cell_type": "code",
   "execution_count": 5,
   "metadata": {
    "collapsed": false
   },
   "outputs": [
    {
     "name": "stdout",
     "output_type": "stream",
     "text": [
      "1.4142135623730951\n"
     ]
    }
   ],
   "source": [
    "import math\n",
    "import numpy as np\n",
    "\n",
    "def sd_function(input_list): \n",
    "\n",
    "    N= len(input_list)\n",
    "    \n",
    "    def sd_sum (input_list):\n",
    "        temp_array = np.array(input_list)\n",
    "        temp_avg= np.mean(temp_array)\n",
    "        temp_sum_sd = (temp_array-temp_avg)**2\n",
    "        return np.sum(temp_sum_sd)\n",
    "    \n",
    "    my_std = math.sqrt(sd_sum(input_list)/N)\n",
    "    return my_std\n",
    "    \n",
    "\n",
    "my_list = [1,2,3,4,5]\n",
    "print(sd_function(my_list))"
   ]
  },
  {
   "cell_type": "code",
   "execution_count": null,
   "metadata": {
    "collapsed": true
   },
   "outputs": [],
   "source": []
  }
 ],
 "metadata": {
  "kernelspec": {
   "display_name": "Python 3",
   "language": "python",
   "name": "python3"
  },
  "language_info": {
   "codemirror_mode": {
    "name": "ipython",
    "version": 3
   },
   "file_extension": ".py",
   "mimetype": "text/x-python",
   "name": "python",
   "nbconvert_exporter": "python",
   "pygments_lexer": "ipython3",
   "version": "3.6.0"
  }
 },
 "nbformat": 4,
 "nbformat_minor": 2
}
